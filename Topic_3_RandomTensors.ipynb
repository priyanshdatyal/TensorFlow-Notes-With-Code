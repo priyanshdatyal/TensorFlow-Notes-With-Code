{
  "nbformat": 4,
  "nbformat_minor": 0,
  "metadata": {
    "colab": {
      "name": "Topic_3_RandomTensors.ipynb",
      "provenance": [],
      "collapsed_sections": [],
      "authorship_tag": "ABX9TyMFuSvkF2gIbcZuDwdeSmpU",
      "include_colab_link": true
    },
    "kernelspec": {
      "name": "python3",
      "display_name": "Python 3"
    },
    "language_info": {
      "name": "python"
    }
  },
  "cells": [
    {
      "cell_type": "markdown",
      "metadata": {
        "id": "view-in-github",
        "colab_type": "text"
      },
      "source": [
        "<a href=\"https://colab.research.google.com/github/priyanshdatyal/TensorFlow-Notes-With-Code/blob/main/Topic_3_RandomTensors.ipynb\" target=\"_parent\"><img src=\"https://colab.research.google.com/assets/colab-badge.svg\" alt=\"Open In Colab\"/></a>"
      ]
    },
    {
      "cell_type": "code",
      "execution_count": 63,
      "metadata": {
        "id": "TnpGWr6bEOOn"
      },
      "outputs": [],
      "source": [
        "###### Random \n",
        "\n",
        "import tensorflow as tf"
      ]
    },
    {
      "cell_type": "code",
      "source": [
        "#Lets get started making random tensors\n",
        "\n",
        "randomOne = tf.random.Generator.from_seed(42)\n",
        "randomOne=randomOne.normal(shape=(2,2))\n",
        "randomTwo = tf.random.Generator.from_seed(42)\n",
        "randomTwo=randomTwo.normal(shape=(2,2))\n",
        "\n",
        "randomOne,randomTwo,randomOne==randomTwo\n"
      ],
      "metadata": {
        "colab": {
          "base_uri": "https://localhost:8080/"
        },
        "id": "C9XRiir3FmdO",
        "outputId": "ceb6a7cc-e74c-4670-87d1-f06cffffbdcf"
      },
      "execution_count": 64,
      "outputs": [
        {
          "output_type": "execute_result",
          "data": {
            "text/plain": [
              "(<tf.Tensor: shape=(2, 2), dtype=float32, numpy=\n",
              " array([[-0.7565803 , -0.06854702],\n",
              "        [ 0.07595026, -1.2573844 ]], dtype=float32)>,\n",
              " <tf.Tensor: shape=(2, 2), dtype=float32, numpy=\n",
              " array([[-0.7565803 , -0.06854702],\n",
              "        [ 0.07595026, -1.2573844 ]], dtype=float32)>,\n",
              " <tf.Tensor: shape=(2, 2), dtype=bool, numpy=\n",
              " array([[ True,  True],\n",
              "        [ True,  True]])>)"
            ]
          },
          "metadata": {},
          "execution_count": 64
        }
      ]
    },
    {
      "cell_type": "code",
      "source": [
        "# Wait What? What the hell is wrong with random number generator\n",
        "# Allow me explain, So we are using from_seed as 42 which sets the seed to 42\n",
        "\n",
        "'''\n",
        " What's Seed and why?\n",
        " \n",
        "  The answer is for Reproducability. In some studies or Researches the reliablity of data is important to to assure \n",
        "  the high degree of reliability on repition of experiment we have from_seed\n",
        "\n",
        "'''\n",
        "\n",
        "# Try it out set value of from seed to values other than 42 and see what happens.\n",
        "'''\n",
        "   Highlight - These are not random - These are preudo random\n",
        "\n",
        "'''"
      ],
      "metadata": {
        "colab": {
          "base_uri": "https://localhost:8080/",
          "height": 52
        },
        "id": "gbu56HvvIKg3",
        "outputId": "f177432b-39f1-43de-de1f-f72481dfce96"
      },
      "execution_count": 65,
      "outputs": [
        {
          "output_type": "execute_result",
          "data": {
            "application/vnd.google.colaboratory.intrinsic+json": {
              "type": "string"
            },
            "text/plain": [
              "\"\\n What's Seed and why?\\n \\n  The answer is for Reproducability. In some studies or Researches the reliablity of data is important to to assure \\n  the high degree of reliability on repition of experiment we have from_seed\\n\\n\""
            ]
          },
          "metadata": {},
          "execution_count": 65
        }
      ]
    },
    {
      "cell_type": "code",
      "source": [
        "# Lets Shuffle\n",
        "\n",
        "#Original\n",
        "original_tensor = tf.constant([[1,2],\n",
        "                              [3,4],\n",
        "                              [5,6]])\n",
        "\n",
        "#Original shuffle 1\n",
        "shuffled_tensor = tf.random.shuffle(original_tensor)\n",
        "#Original shuffle 2\n",
        "shuffled_tensor2 = tf.random.shuffle(original_tensor)\n",
        "#Shuffled shuffle 1\n",
        "shuffle_the_shuffled=tf.random.shuffle(shuffled_tensor)\n",
        "\n",
        "\n",
        "original_tensor,shuffled_tensor,shuffled_tensor2,shuffle_the_shuffled"
      ],
      "metadata": {
        "colab": {
          "base_uri": "https://localhost:8080/"
        },
        "id": "AKthcC2rI5e4",
        "outputId": "8fdfd40c-d3e4-4a67-95aa-f2e0b80fe231"
      },
      "execution_count": 66,
      "outputs": [
        {
          "output_type": "execute_result",
          "data": {
            "text/plain": [
              "(<tf.Tensor: shape=(3, 2), dtype=int32, numpy=\n",
              " array([[1, 2],\n",
              "        [3, 4],\n",
              "        [5, 6]], dtype=int32)>, <tf.Tensor: shape=(3, 2), dtype=int32, numpy=\n",
              " array([[5, 6],\n",
              "        [1, 2],\n",
              "        [3, 4]], dtype=int32)>, <tf.Tensor: shape=(3, 2), dtype=int32, numpy=\n",
              " array([[5, 6],\n",
              "        [3, 4],\n",
              "        [1, 2]], dtype=int32)>, <tf.Tensor: shape=(3, 2), dtype=int32, numpy=\n",
              " array([[3, 4],\n",
              "        [1, 2],\n",
              "        [5, 6]], dtype=int32)>)"
            ]
          },
          "metadata": {},
          "execution_count": 66
        }
      ]
    },
    {
      "cell_type": "code",
      "source": [
        "# Chalo Lets see something weird\n",
        "tf.random.shuffle(original_tensor,seed=(42))\n",
        "\n",
        "'''\n",
        "  Highlight : This will give diffrent result everytime\n",
        "\n",
        "  This one is a operation level seed\n",
        "''' "
      ],
      "metadata": {
        "colab": {
          "base_uri": "https://localhost:8080/"
        },
        "id": "sCex6xjeKjsY",
        "outputId": "fb8934a4-1abe-4474-fae9-9326164f4c0e"
      },
      "execution_count": 67,
      "outputs": [
        {
          "output_type": "execute_result",
          "data": {
            "text/plain": [
              "<tf.Tensor: shape=(3, 2), dtype=int32, numpy=\n",
              "array([[1, 2],\n",
              "       [3, 4],\n",
              "       [5, 6]], dtype=int32)>"
            ]
          },
          "metadata": {},
          "execution_count": 67
        }
      ]
    },
    {
      "cell_type": "code",
      "source": [
        "tf.random.set_seed(42)\n",
        "tf.random.shuffle(original_tensor)\n",
        "\n",
        "'''\n",
        " Highlight : This will give same result everytime no matter what\n",
        "\n",
        " This one is a global level seed\n",
        "\n",
        "'''"
      ],
      "metadata": {
        "colab": {
          "base_uri": "https://localhost:8080/"
        },
        "id": "2ryAsR40LU0P",
        "outputId": "4df043db-dfa0-4ff1-8b3f-960627215a85"
      },
      "execution_count": 68,
      "outputs": [
        {
          "output_type": "execute_result",
          "data": {
            "text/plain": [
              "<tf.Tensor: shape=(3, 2), dtype=int32, numpy=\n",
              "array([[3, 4],\n",
              "       [5, 6],\n",
              "       [1, 2]], dtype=int32)>"
            ]
          },
          "metadata": {},
          "execution_count": 68
        }
      ]
    },
    {
      "cell_type": "code",
      "source": [
        ""
      ],
      "metadata": {
        "id": "es9yfJMbLm5H"
      },
      "execution_count": null,
      "outputs": []
    }
  ]
}