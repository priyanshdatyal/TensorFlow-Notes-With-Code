{
  "nbformat": 4,
  "nbformat_minor": 0,
  "metadata": {
    "colab": {
      "name": "Notes1.ipynb",
      "provenance": [],
      "authorship_tag": "ABX9TyPqjuM41uzCZE8evwaIk9Yf",
      "include_colab_link": true
    },
    "kernelspec": {
      "name": "python3",
      "display_name": "Python 3"
    },
    "language_info": {
      "name": "python"
    }
  },
  "cells": [
    {
      "cell_type": "markdown",
      "metadata": {
        "id": "view-in-github",
        "colab_type": "text"
      },
      "source": [
        "<a href=\"https://colab.research.google.com/github/priyanshdatyal/TensorFlow-Notes-With-Code/blob/main/Notes1.ipynb\" target=\"_parent\"><img src=\"https://colab.research.google.com/assets/colab-badge.svg\" alt=\"Open In Colab\"/></a>"
      ]
    },
    {
      "cell_type": "code",
      "execution_count": 83,
      "metadata": {
        "id": "0n26vZtI59BL"
      },
      "outputs": [],
      "source": [
        "# This is the first document related to DL using Tensorflow.\n",
        "#Lets get Started"
      ]
    },
    {
      "cell_type": "code",
      "source": [
        "import tensorflow as tf\n",
        "print(tf.__version__)"
      ],
      "metadata": {
        "colab": {
          "base_uri": "https://localhost:8080/"
        },
        "id": "p6yGR6tO6HbY",
        "outputId": "794f4ff6-7627-4cf6-aa50-18a56f95e57f"
      },
      "execution_count": 84,
      "outputs": [
        {
          "output_type": "stream",
          "name": "stdout",
          "text": [
            "2.8.0\n"
          ]
        }
      ]
    },
    {
      "cell_type": "code",
      "source": [
        "#Creating Tensor wirth tf.constant\n",
        "scaler = tf.constant(7)\n",
        "scaler\n",
        "\n",
        "#Check number of dimensions\n",
        "\n",
        "scaler.ndim"
      ],
      "metadata": {
        "colab": {
          "base_uri": "https://localhost:8080/"
        },
        "id": "a2URCkhv6fdl",
        "outputId": "2e802320-529b-420b-bfd6-c00286f8fb98"
      },
      "execution_count": 85,
      "outputs": [
        {
          "output_type": "execute_result",
          "data": {
            "text/plain": [
              "0"
            ]
          },
          "metadata": {},
          "execution_count": 85
        }
      ]
    },
    {
      "cell_type": "code",
      "source": [
        "#Create  Vector\n",
        "\n",
        "vectorr= tf.constant([3,1])\n",
        "vectorr\n",
        "\n",
        "#Dimensions\n",
        "vectorr.ndim"
      ],
      "metadata": {
        "colab": {
          "base_uri": "https://localhost:8080/"
        },
        "id": "AHlxYhtM6x_H",
        "outputId": "a61a5ddf-56dc-4f6e-ed70-698f8d8c72d1"
      },
      "execution_count": 86,
      "outputs": [
        {
          "output_type": "execute_result",
          "data": {
            "text/plain": [
              "1"
            ]
          },
          "metadata": {},
          "execution_count": 86
        }
      ]
    },
    {
      "cell_type": "code",
      "source": [
        "matrix = tf.constant([[1,2],[3,4]])\n",
        "matrix"
      ],
      "metadata": {
        "colab": {
          "base_uri": "https://localhost:8080/"
        },
        "id": "Gi96qtoE94l2",
        "outputId": "697fc3e9-8205-47ac-e547-4aa0c409c7c9"
      },
      "execution_count": 87,
      "outputs": [
        {
          "output_type": "execute_result",
          "data": {
            "text/plain": [
              "<tf.Tensor: shape=(2, 2), dtype=int32, numpy=\n",
              "array([[1, 2],\n",
              "       [3, 4]], dtype=int32)>"
            ]
          },
          "metadata": {},
          "execution_count": 87
        }
      ]
    },
    {
      "cell_type": "code",
      "source": [
        "matrix_second = tf.constant([[1.,2.,3.],[4.,5.,6.],[7.,8.,9.]],dtype=tf.float16)\n",
        "matrix_second.ndim"
      ],
      "metadata": {
        "colab": {
          "base_uri": "https://localhost:8080/"
        },
        "id": "Rg84ryKj-Yxn",
        "outputId": "2037347c-8b86-4b9d-d84c-dee5b4e05d9a"
      },
      "execution_count": 88,
      "outputs": [
        {
          "output_type": "execute_result",
          "data": {
            "text/plain": [
              "2"
            ]
          },
          "metadata": {},
          "execution_count": 88
        }
      ]
    },
    {
      "cell_type": "code",
      "source": [
        "#Tensor with much more dimensions\n",
        "\n",
        "matrix_dim = tf.constant([[[1,2,3],\n",
        "                           [4,5,6]],\n",
        "                          \n",
        "                          [[11,12,13],\n",
        "                           [14,15,16]],\n",
        "                           \n",
        "                           [[21,22,23],\n",
        "                           [24,25,26]]\n",
        "                          ])\n",
        "\n",
        "matrix_dim\n",
        "matrix_dim.ndim"
      ],
      "metadata": {
        "colab": {
          "base_uri": "https://localhost:8080/"
        },
        "id": "T4PF5y83-Zpm",
        "outputId": "6d5c4fd0-fc8f-4009-84c3-9cd644974bf6"
      },
      "execution_count": 89,
      "outputs": [
        {
          "output_type": "execute_result",
          "data": {
            "text/plain": [
              "3"
            ]
          },
          "metadata": {},
          "execution_count": 89
        }
      ]
    },
    {
      "cell_type": "code",
      "source": [
        ""
      ],
      "metadata": {
        "id": "OQcxBzVr_9HG"
      },
      "execution_count": null,
      "outputs": []
    }
  ]
}
