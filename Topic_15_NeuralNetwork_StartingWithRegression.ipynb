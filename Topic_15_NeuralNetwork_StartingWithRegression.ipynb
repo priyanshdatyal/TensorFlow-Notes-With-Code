{
  "nbformat": 4,
  "nbformat_minor": 0,
  "metadata": {
    "colab": {
      "name": "Topic_15_NeuralNetwork_StartingWithRegression.ipynb",
      "provenance": [],
      "collapsed_sections": [],
      "authorship_tag": "ABX9TyO2QI4LLzbGXZ2omRahfKE0",
      "include_colab_link": true
    },
    "kernelspec": {
      "name": "python3",
      "display_name": "Python 3"
    },
    "language_info": {
      "name": "python"
    }
  },
  "cells": [
    {
      "cell_type": "markdown",
      "metadata": {
        "id": "view-in-github",
        "colab_type": "text"
      },
      "source": [
        "<a href=\"https://colab.research.google.com/github/priyanshdatyal/TensorFlow-Notes-With-Code/blob/main/Topic_15_NeuralNetwork_StartingWithRegression.ipynb\" target=\"_parent\"><img src=\"https://colab.research.google.com/assets/colab-badge.svg\" alt=\"Open In Colab\"/></a>"
      ]
    },
    {
      "cell_type": "code",
      "execution_count": 4,
      "metadata": {
        "id": "CHoiUEfNUfSP"
      },
      "outputs": [],
      "source": [
        "import tensorflow as tf\n",
        "import numpy as np\n",
        "import matplotlib.pyplot as plt\n"
      ]
    },
    {
      "cell_type": "markdown",
      "source": [
        "# FirstNeural Network Model \n",
        "-------"
      ],
      "metadata": {
        "id": "ubViO20SWLSZ"
      }
    },
    {
      "cell_type": "markdown",
      "source": [
        "Numerical base output is required - Use Regression in simple terms\n",
        "\n",
        "##Sample\n"
      ],
      "metadata": {
        "id": "uy3sWhHiWQXp"
      }
    },
    {
      "cell_type": "code",
      "source": [
        "X = np.array([-7.0,-4.0,-1.0,2.0,5.0,8.0,11.0])\n",
        "\n",
        "y = np.array([3,6,9,12,15,18,21])\n",
        "\n",
        "plt.scatter(X,y)"
      ],
      "metadata": {
        "colab": {
          "base_uri": "https://localhost:8080/",
          "height": 282
        },
        "id": "1UteXh9oWgHZ",
        "outputId": "82078138-04ee-4e8f-f2b5-a29fae395e7b"
      },
      "execution_count": 6,
      "outputs": [
        {
          "output_type": "execute_result",
          "data": {
            "text/plain": [
              "<matplotlib.collections.PathCollection at 0x7f36fef19610>"
            ]
          },
          "metadata": {},
          "execution_count": 6
        },
        {
          "output_type": "display_data",
          "data": {
            "image/png": "[encoded data removed]",
            "text/plain": [
              "<Figure size 432x288 with 1 Axes>"
            ]
          },
          "metadata": {
            "needs_background": "light"
          }
        }
      ]
    },
    {
      "cell_type": "code",
      "source": [
        "# SO lets check What's the relation between X and y\n",
        "\n",
        "y = X+10\n",
        "y\n"
      ],
      "metadata": {
        "colab": {
          "base_uri": "https://localhost:8080/"
        },
        "id": "Hd6-Lf4CXnG0",
        "outputId": "fde50906-b630-4588-dc5f-5b39d3415cf7"
      },
      "execution_count": 8,
      "outputs": [
        {
          "output_type": "execute_result",
          "data": {
            "text/plain": [
              "array([ 3.,  6.,  9., 12., 15., 18., 21.])"
            ]
          },
          "metadata": {},
          "execution_count": 8
        }
      ]
    },
    {
      "cell_type": "code",
      "source": [
        "# It worked So let' see\n",
        "\n",
        "y==X+10      # So these kinda relations we have to find"
      ],
      "metadata": {
        "colab": {
          "base_uri": "https://localhost:8080/"
        },
        "id": "gRrEYZ8bXycq",
        "outputId": "e97ce0ac-fa1c-4304-eff0-25567d56a2b9"
      },
      "execution_count": 9,
      "outputs": [
        {
          "output_type": "execute_result",
          "data": {
            "text/plain": [
              "array([ True,  True,  True,  True,  True,  True,  True])"
            ]
          },
          "metadata": {},
          "execution_count": 9
        }
      ]
    },
    {
      "cell_type": "markdown",
      "source": [
        " ### Input and Output Shapes"
      ],
      "metadata": {
        "id": "wReim1ltX2Lj"
      }
    },
    {
      "cell_type": "markdown",
      "source": [
        "For single valued output => Output shape is (1)\n",
        "and Input shape can be anything as it will contain features on which result is to be evaluated"
      ],
      "metadata": {
        "id": "-d6bQoh2YEDC"
      }
    }
  ]
}