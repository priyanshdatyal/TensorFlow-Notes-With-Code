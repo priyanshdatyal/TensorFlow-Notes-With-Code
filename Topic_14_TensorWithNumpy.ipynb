{
  "nbformat": 4,
  "nbformat_minor": 0,
  "metadata": {
    "colab": {
      "name": "Topic_14_TensorWithNumpy.ipynb",
      "provenance": [],
      "collapsed_sections": [],
      "authorship_tag": "ABX9TyOX8nEMOkCsjVAK0hynWHBR",
      "include_colab_link": true
    },
    "kernelspec": {
      "name": "python3",
      "display_name": "Python 3"
    },
    "language_info": {
      "name": "python"
    }
  },
  "cells": [
    {
      "cell_type": "markdown",
      "metadata": {
        "id": "view-in-github",
        "colab_type": "text"
      },
      "source": [
        "<a href=\"https://colab.research.google.com/github/priyanshdatyal/TensorFlow-Notes-With-Code/blob/main/Topic_14_TensorWithNumpy.ipynb\" target=\"_parent\"><img src=\"https://colab.research.google.com/assets/colab-badge.svg\" alt=\"Open In Colab\"/></a>"
      ]
    },
    {
      "cell_type": "markdown",
      "source": [
        "####  One Hot Encoding"
      ],
      "metadata": {
        "id": "FuYFbI78_y7p"
      }
    },
    {
      "cell_type": "code",
      "source": [
        "import tensorflow as tf\n",
        "import numpy as np\n"
      ],
      "metadata": {
        "id": "bqDAvTBC_9I6"
      },
      "execution_count": 34,
      "outputs": []
    },
    {
      "cell_type": "markdown",
      "source": [
        "##### Tensors and NumPy"
      ],
      "metadata": {
        "id": "F4Dv_8x3CLCj"
      }
    },
    {
      "cell_type": "code",
      "source": [
        "# Cross coversion of type\n",
        "\n",
        "tfc = tf.constant(np.array([3.,7.,10.]))\n",
        "tfc"
      ],
      "metadata": {
        "colab": {
          "base_uri": "https://localhost:8080/"
        },
        "id": "zwyxfWlGCOIK",
        "outputId": "967f2964-f86c-4a55-94e3-32f3619239ab"
      },
      "execution_count": 35,
      "outputs": [
        {
          "output_type": "execute_result",
          "data": {
            "text/plain": [
              "<tf.Tensor: shape=(3,), dtype=float64, numpy=array([ 3.,  7., 10.])>"
            ]
          },
          "metadata": {},
          "execution_count": 35
        }
      ]
    },
    {
      "cell_type": "code",
      "source": [
        "nfc = np.array(tfc)\n",
        "nfc"
      ],
      "metadata": {
        "colab": {
          "base_uri": "https://localhost:8080/"
        },
        "id": "p9c1TO_-CsXT",
        "outputId": "e0c8f0d0-7a71-4be7-bde4-25aee490e1d2"
      },
      "execution_count": 36,
      "outputs": [
        {
          "output_type": "execute_result",
          "data": {
            "text/plain": [
              "array([ 3.,  7., 10.])"
            ]
          },
          "metadata": {},
          "execution_count": 36
        }
      ]
    },
    {
      "cell_type": "code",
      "source": [
        "# Or \n",
        "\n",
        "tfc.numpy(),type(tfc.numpy())"
      ],
      "metadata": {
        "colab": {
          "base_uri": "https://localhost:8080/"
        },
        "id": "Z0ARujhnDCrS",
        "outputId": "98aecf21-da5d-44d1-ea4c-33a7a8418c1e"
      },
      "execution_count": 38,
      "outputs": [
        {
          "output_type": "execute_result",
          "data": {
            "text/plain": [
              "(array([ 3.,  7., 10.]), numpy.ndarray)"
            ]
          },
          "metadata": {},
          "execution_count": 38
        }
      ]
    },
    {
      "cell_type": "markdown",
      "source": [
        "# Diffrence dtypes for same functionality"
      ],
      "metadata": {
        "id": "LyqEmFCbDJKD"
      }
    },
    {
      "cell_type": "code",
      "source": [
        "nA = tf.constant(np.array([1,2]))\n",
        "tA = tf.constant([1,2])\n",
        "\n",
        "#checking the types \n",
        "\n",
        "nA.dtype,tA.dtype"
      ],
      "metadata": {
        "colab": {
          "base_uri": "https://localhost:8080/"
        },
        "id": "IG_KoAMVDaCa",
        "outputId": "58d990ec-b0c8-4411-ea2a-9a81f30784f6"
      },
      "execution_count": 39,
      "outputs": [
        {
          "output_type": "execute_result",
          "data": {
            "text/plain": [
              "(tf.int64, tf.int32)"
            ]
          },
          "metadata": {},
          "execution_count": 39
        }
      ]
    },
    {
      "cell_type": "code",
      "source": [
        "nA = tf.constant(np.array([1.,2.]))\n",
        "tA = tf.constant([1.,2.])\n",
        "\n",
        "#checking the types \n",
        "\n",
        "nA.dtype,tA.dtype"
      ],
      "metadata": {
        "colab": {
          "base_uri": "https://localhost:8080/"
        },
        "id": "itVO2b-pDwpi",
        "outputId": "e15544c8-dba6-4f5b-dcae-2147140100ff"
      },
      "execution_count": 40,
      "outputs": [
        {
          "output_type": "execute_result",
          "data": {
            "text/plain": [
              "(tf.float64, tf.float32)"
            ]
          },
          "metadata": {},
          "execution_count": 40
        }
      ]
    }
  ]
}