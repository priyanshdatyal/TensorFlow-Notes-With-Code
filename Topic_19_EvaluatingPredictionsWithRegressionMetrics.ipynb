{
  "nbformat": 4,
  "nbformat_minor": 0,
  "metadata": {
    "colab": {
      "name": "Topic_19_EvaluatingPredictionsWithRegressionMetrics.ipynb",
      "provenance": [],
      "collapsed_sections": [],
      "authorship_tag": "ABX9TyOjOWceSovbsP8E7dMhgHe6",
      "include_colab_link": true
    },
    "kernelspec": {
      "name": "python3",
      "display_name": "Python 3"
    },
    "language_info": {
      "name": "python"
    }
  },
  "cells": [
    {
      "cell_type": "markdown",
      "metadata": {
        "id": "view-in-github",
        "colab_type": "text"
      },
      "source": [
        "<a href=\"https://colab.research.google.com/github/priyanshdatyal/TensorFlow-Notes-With-Code/blob/main/Topic_19_EvaluatingPredictionsWithRegressionMetrics.ipynb\" target=\"_parent\"><img src=\"https://colab.research.google.com/assets/colab-badge.svg\" alt=\"Open In Colab\"/></a>"
      ]
    },
    {
      "cell_type": "code",
      "execution_count": 30,
      "metadata": {
        "id": "ZUTiYqrKXIbW"
      },
      "outputs": [],
      "source": [
        "import tensorflow as tf\n",
        "import numpy as np\n",
        "import matplotlib.pyplot as plt"
      ]
    },
    {
      "cell_type": "markdown",
      "source": [
        "Depending upon the p[roblem e have diffeent methods to evaluate the prection model"
      ],
      "metadata": {
        "id": "MbIJEss_XUpZ"
      }
    },
    {
      "cell_type": "markdown",
      "source": [
        "Since we are working with roblem\n",
        "\n",
        "MAE = mean absoklute error : on average error how accurate is each maplotlib\n",
        "\n",
        "MSE = square the average error"
      ],
      "metadata": {
        "id": "IMdjTo-tXb3v"
      }
    },
    {
      "cell_type": "code",
      "source": [
        "\n",
        "X = tf.range(-100,100,4)\n",
        "y=X+10\n",
        "lengthTrain =len(X)*0.8\n",
        "X,y\n",
        "\n",
        "X_train = X[:int(lengthTrain)]\n",
        "X_test = X[int(lengthTrain):]\n",
        "\n",
        "\n",
        "y_train = y[:int(lengthTrain)]\n",
        "y_test = y[int(lengthTrain):]\n",
        "plt.figure(figsize=(10, 7))\n",
        "# Plot training data in blue\n",
        "# plt.scatter(X_train, y_train, c='g', label='Training data')\n",
        "# # Plot test data in green\n",
        "# plt.scatter(X_test, y_test, c='r', label='Testing data')\n",
        "# # Show the legend\n",
        "# plt.legend();\n",
        "\n",
        "tf.random.set_seed(42)\n",
        "model = tf.keras.Sequential([\n",
        "                  tf.keras.layers.Dense(7,input_shape=[1]),\n",
        "                  tf.keras.layers.Dense(1,input_shape=[1])\n",
        "])\n",
        "model.compile(\n",
        "    loss=tf.keras.losses.mae,\n",
        "    optimizer=tf.keras.optimizers.SGD(),\n",
        "    metrics=[\"mae\"])\n",
        "\n",
        "# model.summary()\n",
        "model.fit(X_train,y_train,epochs=100,verbose=0)\n",
        "y_predicted=model.predict(X_test)\n",
        "y_predicted"
      ],
      "metadata": {
        "colab": {
          "base_uri": "https://localhost:8080/",
          "height": 208
        },
        "id": "5zPAzn2jYRvu",
        "outputId": "903371fd-36d6-4f47-b71a-84896cd5cdaf"
      },
      "execution_count": 48,
      "outputs": [
        {
          "output_type": "execute_result",
          "data": {
            "text/plain": [
              "array([[ 69.4904  ],\n",
              "       [ 74.01089 ],\n",
              "       [ 78.53137 ],\n",
              "       [ 83.05186 ],\n",
              "       [ 87.57235 ],\n",
              "       [ 92.092834],\n",
              "       [ 96.61331 ],\n",
              "       [101.133804],\n",
              "       [105.65429 ],\n",
              "       [110.174774]], dtype=float32)"
            ]
          },
          "metadata": {},
          "execution_count": 48
        },
        {
          "output_type": "display_data",
          "data": {
            "text/plain": [
              "<Figure size 720x504 with 0 Axes>"
            ]
          },
          "metadata": {}
        }
      ]
    },
    {
      "cell_type": "code",
      "source": [
        "\n",
        "def plotGraph(\n",
        "              xt=X_train,\n",
        "              yt=y_train,\n",
        "              ytst=y_test,\n",
        "              xtst=X_test,\n",
        "              predicted=y_predicted\n",
        "              ):\n",
        "  plt.figure(figsize=(10, 7))\n",
        "  plt.scatter(xt, yt, c=\"g\", label=\"Training data\")\n",
        "  plt.scatter(xtst, ytst, c=\"r\", label=\"Testing data\")\n",
        "  plt.scatter(ytst, predicted, c=\"b\", label=\"Predicted Data\")\n",
        "  plt.legend();"
      ],
      "metadata": {
        "id": "k5bauWfeYYDY"
      },
      "execution_count": 32,
      "outputs": []
    },
    {
      "cell_type": "code",
      "source": [
        "plotGraph()"
      ],
      "metadata": {
        "colab": {
          "base_uri": "https://localhost:8080/",
          "height": 428
        },
        "id": "kLyyJy8pbb0d",
        "outputId": "fd6596f2-06f8-4246-d072-57d44b41907c"
      },
      "execution_count": 49,
      "outputs": [
        {
          "output_type": "display_data",
          "data": {
            "image/png": "[encoded data removed]",
            "text/plain": [
              "<Figure size 720x504 with 1 Axes>"
            ]
          },
          "metadata": {
            "needs_background": "light"
          }
        }
      ]
    },
    {
      "cell_type": "code",
      "source": [
        "model.evaluate(X_test,y_test)"
      ],
      "metadata": {
        "colab": {
          "base_uri": "https://localhost:8080/"
        },
        "id": "J3z0ZBh2XzbP",
        "outputId": "4686098e-efc3-4535-f501-c5a0cb14a8ea"
      },
      "execution_count": 34,
      "outputs": [
        {
          "output_type": "stream",
          "name": "stdout",
          "text": [
            "1/1 [==============================] - 0s 112ms/step - loss: 3.8340 - mae: 3.8340\n"
          ]
        },
        {
          "output_type": "execute_result",
          "data": {
            "text/plain": [
              "[3.833991289138794, 3.833991289138794]"
            ]
          },
          "metadata": {},
          "execution_count": 34
        }
      ]
    },
    {
      "cell_type": "code",
      "source": [
        "y_test,tf.constant(y_predicted)"
      ],
      "metadata": {
        "colab": {
          "base_uri": "https://localhost:8080/"
        },
        "id": "Dmqpjm1VZj13",
        "outputId": "0830a866-69f9-44eb-c14c-30bb30358738"
      },
      "execution_count": 35,
      "outputs": [
        {
          "output_type": "execute_result",
          "data": {
            "text/plain": [
              "(<tf.Tensor: shape=(10,), dtype=int32, numpy=array([ 70,  74,  78,  82,  86,  90,  94,  98, 102, 106], dtype=int32)>,\n",
              " <tf.Tensor: shape=(10, 1), dtype=float32, numpy=\n",
              " array([[ 72.60887],\n",
              "        [ 76.88112],\n",
              "        [ 81.15337],\n",
              "        [ 85.42562],\n",
              "        [ 89.69787],\n",
              "        [ 93.97011],\n",
              "        [ 98.24236],\n",
              "        [102.51461],\n",
              "        [106.78686],\n",
              "        [111.05911]], dtype=float32)>)"
            ]
          },
          "metadata": {},
          "execution_count": 35
        }
      ]
    },
    {
      "cell_type": "code",
      "source": [
        "# Compute mean absolute error \n",
        "\n",
        "mae = tf.metrics.mean_absolute_error(y_test,y_pred=tf.constant(y_predicted))\n",
        "mae"
      ],
      "metadata": {
        "colab": {
          "base_uri": "https://localhost:8080/"
        },
        "id": "yA-pF_zdYQyX",
        "outputId": "0871263a-4e17-4fbd-d896-d6aa074efa9c"
      },
      "execution_count": 36,
      "outputs": [
        {
          "output_type": "execute_result",
          "data": {
            "text/plain": [
              "<tf.Tensor: shape=(10,), dtype=float32, numpy=\n",
              "array([15.912903, 13.071329, 11.138651, 10.114876, 10.      , 10.794022,\n",
              "       12.545418, 15.211688, 18.786858, 23.059113], dtype=float32)>"
            ]
          },
          "metadata": {},
          "execution_count": 36
        }
      ]
    },
    {
      "cell_type": "code",
      "source": [
        "y_test-y_predicted"
      ],
      "metadata": {
        "colab": {
          "base_uri": "https://localhost:8080/"
        },
        "id": "uk2xwXSNZKV3",
        "outputId": "d449d147-ad1e-4302-f311-f3d53ffe6c7d"
      },
      "execution_count": 37,
      "outputs": [
        {
          "output_type": "execute_result",
          "data": {
            "text/plain": [
              "<tf.Tensor: shape=(10, 10), dtype=int32, numpy=\n",
              "array([[ -2,   2,   6,  10,  14,  18,  22,  26,  30,  34],\n",
              "       [ -6,  -2,   2,   6,  10,  14,  18,  22,  26,  30],\n",
              "       [-11,  -7,  -3,   1,   5,   9,  13,  17,  21,  25],\n",
              "       [-15, -11,  -7,  -3,   1,   5,   9,  13,  17,  21],\n",
              "       [-19, -15, -11,  -7,  -3,   1,   5,   9,  13,  17],\n",
              "       [-23, -19, -15, -11,  -7,  -3,   1,   5,   9,  13],\n",
              "       [-28, -24, -20, -16, -12,  -8,  -4,   0,   4,   8],\n",
              "       [-32, -28, -24, -20, -16, -12,  -8,  -4,   0,   4],\n",
              "       [-36, -32, -28, -24, -20, -16, -12,  -8,  -4,   0],\n",
              "       [-41, -37, -33, -29, -25, -21, -17, -13,  -9,  -5]], dtype=int32)>"
            ]
          },
          "metadata": {},
          "execution_count": 37
        }
      ]
    },
    {
      "cell_type": "markdown",
      "source": [
        "The problem is that they dont have samne shape \n",
        "Note : y_test has (10,1) while y_predicted has (10,)"
      ],
      "metadata": {
        "id": "_hS_MmsVZ0ke"
      }
    },
    {
      "cell_type": "code",
      "source": [
        "tf.squeeze(y_predicted)"
      ],
      "metadata": {
        "colab": {
          "base_uri": "https://localhost:8080/"
        },
        "id": "St1Fse05Z-CG",
        "outputId": "88fca4f5-4a2b-4a25-97f3-05cf27ba606f"
      },
      "execution_count": 38,
      "outputs": [
        {
          "output_type": "execute_result",
          "data": {
            "text/plain": [
              "<tf.Tensor: shape=(10,), dtype=float32, numpy=\n",
              "array([ 72.60887,  76.88112,  81.15337,  85.42562,  89.69787,  93.97011,\n",
              "        98.24236, 102.51461, 106.78686, 111.05911], dtype=float32)>"
            ]
          },
          "metadata": {},
          "execution_count": 38
        }
      ]
    },
    {
      "cell_type": "code",
      "source": [
        "\n",
        "mae = tf.metrics.mean_absolute_error(y_test,y_pred=tf.squeeze(tf.constant(y_predicted)))\n",
        "mae"
      ],
      "metadata": {
        "colab": {
          "base_uri": "https://localhost:8080/"
        },
        "id": "2h5E-YtGaBB2",
        "outputId": "53b26207-7a5c-4320-d391-118da7bd2f1f"
      },
      "execution_count": 39,
      "outputs": [
        {
          "output_type": "execute_result",
          "data": {
            "text/plain": [
              "<tf.Tensor: shape=(), dtype=float32, numpy=3.8339906>"
            ]
          },
          "metadata": {},
          "execution_count": 39
        }
      ]
    },
    {
      "cell_type": "markdown",
      "source": [
        "#Mean Square Error\n"
      ],
      "metadata": {
        "id": "oP0hTb9Paac_"
      }
    },
    {
      "cell_type": "code",
      "source": [
        "\n",
        "mse = tf.keras.losses.MSE(y_test,y_pred=tf.squeeze(tf.constant(y_predicted)))\n",
        "mse"
      ],
      "metadata": {
        "colab": {
          "base_uri": "https://localhost:8080/"
        },
        "id": "UIU-m1a6aWwd",
        "outputId": "1ed43715-e47f-474e-fb63-5a14df13a097"
      },
      "execution_count": 40,
      "outputs": [
        {
          "output_type": "execute_result",
          "data": {
            "text/plain": [
              "<tf.Tensor: shape=(), dtype=float32, numpy=15.3109665>"
            ]
          },
          "metadata": {},
          "execution_count": 40
        }
      ]
    }
  ]
}