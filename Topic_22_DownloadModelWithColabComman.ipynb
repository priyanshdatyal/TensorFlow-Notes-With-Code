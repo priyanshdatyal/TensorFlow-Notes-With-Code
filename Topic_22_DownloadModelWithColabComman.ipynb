{
  "nbformat": 4,
  "nbformat_minor": 0,
  "metadata": {
    "colab": {
      "name": "Topic_22_DownloadModelWithColabComman.ipynb",
      "provenance": [],
      "collapsed_sections": [],
      "authorship_tag": "ABX9TyNa8e0IqpaZ9Vgw6wTTdnUu",
      "include_colab_link": true
    },
    "kernelspec": {
      "name": "python3",
      "display_name": "Python 3"
    },
    "language_info": {
      "name": "python"
    }
  },
  "cells": [
    {
      "cell_type": "markdown",
      "metadata": {
        "id": "view-in-github",
        "colab_type": "text"
      },
      "source": [
        "<a href=\"https://colab.research.google.com/github/priyanshdatyal/TensorFlow-Notes-With-Code/blob/main/Topic_22_DownloadModelWithColabComman.ipynb\" target=\"_parent\"><img src=\"https://colab.research.google.com/assets/colab-badge.svg\" alt=\"Open In Colab\"/></a>"
      ]
    },
    {
      "cell_type": "markdown",
      "source": [
        "# Downloading a Model or All Files"
      ],
      "metadata": {
        "id": "7SK1l37v3DtV"
      }
    },
    {
      "cell_type": "code",
      "source": [
        "import tensorflow as tf\n",
        "import numpy as np\n",
        "import matplotlib.pyplot as plt\n",
        "\n",
        "X = tf.range(-100,100,4)\n",
        "y=X+10\n",
        "\n",
        "lengthTrain =len(X)*0.8\n",
        "X_train = X[:int(lengthTrain)]\n",
        "X_test = X[int(lengthTrain):]\n",
        "\n",
        "\n",
        "y_train = y[:int(lengthTrain)]\n",
        "y_test = y[int(lengthTrain):]\n",
        "\n",
        "tf.random.set_seed(42)\n",
        "model = tf.keras.Sequential([\n",
        "                  tf.keras.layers.Dense(1,input_shape=[1]),\n",
        "                  tf.keras.layers.Dense(1,input_shape=[1])\n",
        "])\n",
        "model.compile(\n",
        "    loss=tf.keras.losses.mae,\n",
        "    optimizer=tf.keras.optimizers.Adam(lr=0.045),\n",
        "    metrics=[\"mae\"])\n",
        "\n",
        "# model.summary()\n",
        "model.fit(X_train,y_train,epochs=225,verbose=0)\n",
        "y_predicted=model.predict(X_test)\n",
        "y_predicted,tf.metrics.mean_absolute_error(y_test,tf.squeeze(tf.constant(y_predicted)))"
      ],
      "metadata": {
        "colab": {
          "base_uri": "https://localhost:8080/"
        },
        "id": "DuupUouo3l2S",
        "outputId": "b62e50ac-6287-4d9b-a183-5f3a62181ee0"
      },
      "execution_count": 1,
      "outputs": [
        {
          "output_type": "stream",
          "name": "stderr",
          "text": [
            "/usr/local/lib/python3.7/dist-packages/keras/optimizer_v2/adam.py:105: UserWarning: The `lr` argument is deprecated, use `learning_rate` instead.\n",
            "  super(Adam, self).__init__(name, **kwargs)\n"
          ]
        },
        {
          "output_type": "execute_result",
          "data": {
            "text/plain": [
              "(array([[ 70.01865 ],\n",
              "        [ 74.01486 ],\n",
              "        [ 78.01107 ],\n",
              "        [ 82.00728 ],\n",
              "        [ 86.003494],\n",
              "        [ 89.9997  ],\n",
              "        [ 93.995926],\n",
              "        [ 97.99213 ],\n",
              "        [101.98835 ],\n",
              "        [105.984566]], dtype=float32),\n",
              " <tf.Tensor: shape=(), dtype=float32, numpy=0.009468079>)"
            ]
          },
          "metadata": {},
          "execution_count": 1
        }
      ]
    },
    {
      "cell_type": "code",
      "source": [
        "model.save(\"SaveModelToDownload\")"
      ],
      "metadata": {
        "colab": {
          "base_uri": "https://localhost:8080/"
        },
        "id": "_FbyuCE53qNJ",
        "outputId": "c584f651-df73-40ce-a2f3-e8eddd9415a0"
      },
      "execution_count": 2,
      "outputs": [
        {
          "output_type": "stream",
          "name": "stdout",
          "text": [
            "INFO:tensorflow:Assets written to: SaveModelToDownload/assets\n"
          ]
        }
      ]
    },
    {
      "cell_type": "code",
      "source": [
        "from google.colab import files\n",
        "files.download('/content/SaveModelToDownload')"
      ],
      "metadata": {
        "id": "MpWj8l993KWJ"
      },
      "execution_count": null,
      "outputs": []
    },
    {
      "cell_type": "code",
      "source": [
        "from google.colab import drive\n",
        "drive.mount('/content/drive')"
      ],
      "metadata": {
        "id": "FOJVKqXS3U9J"
      },
      "execution_count": null,
      "outputs": []
    },
    {
      "cell_type": "code",
      "source": [
        ""
      ],
      "metadata": {
        "id": "Hl51TRuC4AG5"
      },
      "execution_count": null,
      "outputs": []
    }
  ]
}