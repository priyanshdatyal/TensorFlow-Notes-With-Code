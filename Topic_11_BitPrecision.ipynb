{
  "nbformat": 4,
  "nbformat_minor": 0,
  "metadata": {
    "colab": {
      "name": "Topic_11_BitPrecision.ipynb",
      "provenance": [],
      "collapsed_sections": [],
      "authorship_tag": "ABX9TyP8X7xdtUvSWTR3adSPMYrc",
      "include_colab_link": true
    },
    "kernelspec": {
      "name": "python3",
      "display_name": "Python 3"
    },
    "language_info": {
      "name": "python"
    }
  },
  "cells": [
    {
      "cell_type": "markdown",
      "metadata": {
        "id": "view-in-github",
        "colab_type": "text"
      },
      "source": [
        "<a href=\"https://colab.research.google.com/github/priyanshdatyal/TensorFlow-Notes-With-Code/blob/main/Topic_11_BitPrecision.ipynb\" target=\"_parent\"><img src=\"https://colab.research.google.com/assets/colab-badge.svg\" alt=\"Open In Colab\"/></a>"
      ]
    },
    {
      "cell_type": "code",
      "execution_count": 22,
      "metadata": {
        "id": "JAR-fA-Pf84g"
      },
      "outputs": [],
      "source": [
        "import tensorflow as tf"
      ]
    },
    {
      "cell_type": "code",
      "source": [
        "# Default dType is 32 bit "
      ],
      "metadata": {
        "id": "W7-KurcUgve_"
      },
      "execution_count": 23,
      "outputs": []
    },
    {
      "cell_type": "code",
      "source": [
        "'''\n",
        "\n",
        "    Why do we even need to chsange the dtype ?\n",
        "      The 32 bit type takes 32 bit memory size 16 take 16 bit. Obvious right but \n",
        "      thats not the main point but the logic is 50% of memory reduction which \n",
        "      makes the the processing 3 times faster on GPUs and 60% faster on TPUs  \n",
        "\n",
        "'''"
      ],
      "metadata": {
        "colab": {
          "base_uri": "https://localhost:8080/",
          "height": 70
        },
        "id": "adL6WTmZg41X",
        "outputId": "4a7e73b2-2bad-417a-8482-983100432800"
      },
      "execution_count": 24,
      "outputs": [
        {
          "output_type": "execute_result",
          "data": {
            "application/vnd.google.colaboratory.intrinsic+json": {
              "type": "string"
            },
            "text/plain": [
              "'\\n\\n    Why do we even need to chsange the dtype ?\\n      The 32 bit type takes 32 bit memory size 16 take 16 bit. Obvious right but \\n      thats not the main point but the logic is 50% of memory reduction which \\n      makes the the processing 3 times faster on GPUs and 60% faster on TPUs  \\n\\n'"
            ]
          },
          "metadata": {},
          "execution_count": 24
        }
      ]
    },
    {
      "cell_type": "code",
      "source": [
        "const32 = tf.constant([[1,2],[3,4]])\n",
        "const32"
      ],
      "metadata": {
        "colab": {
          "base_uri": "https://localhost:8080/"
        },
        "id": "rn8qaVrNhSf_",
        "outputId": "950c9a6e-92d3-48ea-b56b-dc219428e58b"
      },
      "execution_count": 25,
      "outputs": [
        {
          "output_type": "execute_result",
          "data": {
            "text/plain": [
              "<tf.Tensor: shape=(2, 2), dtype=int32, numpy=\n",
              "array([[1, 2],\n",
              "       [3, 4]], dtype=int32)>"
            ]
          },
          "metadata": {},
          "execution_count": 25
        }
      ]
    },
    {
      "cell_type": "code",
      "source": [
        "# Lets change it to 16 bit\n",
        "\n",
        "const16=tf.cast(const32,dtype=tf.int16)"
      ],
      "metadata": {
        "id": "-N88u22lhchX"
      },
      "execution_count": 26,
      "outputs": []
    },
    {
      "cell_type": "code",
      "source": [
        "print(f\"cosnt32 dtype is : {const32.dtype}\")\n",
        "print(f\"\\ncosnt16 dtype is : {const16.dtype}\")"
      ],
      "metadata": {
        "colab": {
          "base_uri": "https://localhost:8080/"
        },
        "id": "lcJQpe6vhyhQ",
        "outputId": "cbc160d4-4b18-4780-e592-3bcd25b29ff1"
      },
      "execution_count": 27,
      "outputs": [
        {
          "output_type": "stream",
          "name": "stdout",
          "text": [
            "cosnt32 dtype is : <dtype: 'int32'>\n",
            "\n",
            "cosnt16 dtype is : <dtype: 'int16'>\n"
          ]
        }
      ]
    }
  ]
}