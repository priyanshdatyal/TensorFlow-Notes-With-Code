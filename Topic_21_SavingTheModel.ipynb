{
  "nbformat": 4,
  "nbformat_minor": 0,
  "metadata": {
    "colab": {
      "name": "Topic_21_SavingTheModel.ipynb",
      "provenance": [],
      "collapsed_sections": [],
      "authorship_tag": "ABX9TyO4n6LkqJCh5lRziw9AlF2p",
      "include_colab_link": true
    },
    "kernelspec": {
      "name": "python3",
      "display_name": "Python 3"
    },
    "language_info": {
      "name": "python"
    }
  },
  "cells": [
    {
      "cell_type": "markdown",
      "metadata": {
        "id": "view-in-github",
        "colab_type": "text"
      },
      "source": [
        "<a href=\"https://colab.research.google.com/github/priyanshdatyal/TensorFlow-Notes-With-Code/blob/main/Topic_21_SavingTheModel.ipynb\" target=\"_parent\"><img src=\"https://colab.research.google.com/assets/colab-badge.svg\" alt=\"Open In Colab\"/></a>"
      ]
    },
    {
      "cell_type": "markdown",
      "source": [
        "#Saving the Model"
      ],
      "metadata": {
        "id": "4IZyvrnkyTJb"
      }
    },
    {
      "cell_type": "code",
      "execution_count": 3,
      "metadata": {
        "id": "t8NtmZhryNTj"
      },
      "outputs": [],
      "source": [
        "import tensorflow as tf\n",
        "import numpy as np\n",
        "import matplotlib.pyplot as plt"
      ]
    },
    {
      "cell_type": "markdown",
      "source": [
        "Saving the model allows us to use our models wherever we want \n",
        "\n",
        "1. Android\n",
        "2. WebApp\n",
        "3. Software\n",
        "4. Or Anywhere\n"
      ],
      "metadata": {
        "id": "DBiJ8RFeyRdf"
      }
    },
    {
      "cell_type": "markdown",
      "source": [
        "There are two main formats to save our model\n",
        "1. Saveodel format : Allow us to format the model even after saving it by loading it again\n",
        "2. The HTF5 format : Heirarichal Data Format"
      ],
      "metadata": {
        "id": "WyjXtcrGyhJL"
      }
    },
    {
      "cell_type": "markdown",
      "source": [
        "### SaveModel Format\n"
      ],
      "metadata": {
        "id": "T1usKNnDzTZT"
      }
    },
    {
      "cell_type": "code",
      "source": [
        "X = tf.range(-100,100,4)\n",
        "y=X+10\n",
        "\n",
        "lengthTrain =len(X)*0.8\n",
        "X_train = X[:int(lengthTrain)]\n",
        "X_test = X[int(lengthTrain):]\n",
        "\n",
        "\n",
        "y_train = y[:int(lengthTrain)]\n",
        "y_test = y[int(lengthTrain):]\n",
        "\n",
        "tf.random.set_seed(42)\n",
        "model = tf.keras.Sequential([\n",
        "                  tf.keras.layers.Dense(1,input_shape=[1]),\n",
        "                  tf.keras.layers.Dense(1,input_shape=[1])\n",
        "])\n",
        "model.compile(\n",
        "    loss=tf.keras.losses.mae,\n",
        "    optimizer=tf.keras.optimizers.Adam(lr=0.045),\n",
        "    metrics=[\"mae\"])\n",
        "\n",
        "# model.summary()\n",
        "model.fit(X_train,y_train,epochs=225,verbose=0)\n",
        "y_predicted=model.predict(X_test)\n",
        "y_predicted,tf.metrics.mean_absolute_error(y_test,tf.squeeze(tf.constant(y_predicted)))"
      ],
      "metadata": {
        "colab": {
          "base_uri": "https://localhost:8080/"
        },
        "id": "SuLDBpyFzZj6",
        "outputId": "1bf90848-92af-433a-90f7-7340be1f7da3"
      },
      "execution_count": 8,
      "outputs": [
        {
          "output_type": "stream",
          "name": "stderr",
          "text": [
            "/usr/local/lib/python3.7/dist-packages/keras/optimizer_v2/adam.py:105: UserWarning: The `lr` argument is deprecated, use `learning_rate` instead.\n",
            "  super(Adam, self).__init__(name, **kwargs)\n"
          ]
        },
        {
          "output_type": "execute_result",
          "data": {
            "text/plain": [
              "(array([[ 70.01865 ],\n",
              "        [ 74.01486 ],\n",
              "        [ 78.01107 ],\n",
              "        [ 82.00728 ],\n",
              "        [ 86.003494],\n",
              "        [ 89.9997  ],\n",
              "        [ 93.995926],\n",
              "        [ 97.99213 ],\n",
              "        [101.98835 ],\n",
              "        [105.984566]], dtype=float32),\n",
              " <tf.Tensor: shape=(), dtype=float32, numpy=0.009468079>)"
            ]
          },
          "metadata": {},
          "execution_count": 8
        }
      ]
    },
    {
      "cell_type": "code",
      "source": [
        "model.save(\"SavingTheModelFirst\")"
      ],
      "metadata": {
        "colab": {
          "base_uri": "https://localhost:8080/"
        },
        "id": "d0L_2ZcSzqBr",
        "outputId": "268af828-7c91-4a2e-92c5-af6ae2c74931"
      },
      "execution_count": 4,
      "outputs": [
        {
          "output_type": "stream",
          "name": "stdout",
          "text": [
            "INFO:tensorflow:Assets written to: SavingTheModelFirst/assets\n"
          ]
        }
      ]
    },
    {
      "cell_type": "markdown",
      "source": [
        "###Hierarichal Saving"
      ],
      "metadata": {
        "id": "bME2-LQE0Cp7"
      }
    },
    {
      "cell_type": "code",
      "source": [
        "model.save(\"SavingTheModelFirstInHDF5.h5\")"
      ],
      "metadata": {
        "id": "zVjuePCR0Fmi"
      },
      "execution_count": 6,
      "outputs": []
    },
    {
      "cell_type": "markdown",
      "source": [
        "## Loading the Saved Format"
      ],
      "metadata": {
        "id": "3VyWuxPp0ynT"
      }
    },
    {
      "cell_type": "code",
      "source": [
        "loadModel = tf.keras.models.load_model('/content/SavingTheModelFirst')\n",
        "loadModel"
      ],
      "metadata": {
        "colab": {
          "base_uri": "https://localhost:8080/"
        },
        "id": "Yh8Cb4Wn01Y4",
        "outputId": "e0d8a9ef-3f7a-4c96-c711-f9c9ebe360ac"
      },
      "execution_count": 11,
      "outputs": [
        {
          "output_type": "execute_result",
          "data": {
            "text/plain": [
              "<keras.engine.sequential.Sequential at 0x7f4b4e184590>"
            ]
          },
          "metadata": {},
          "execution_count": 11
        }
      ]
    },
    {
      "cell_type": "code",
      "source": [
        "loadModel.summary()"
      ],
      "metadata": {
        "colab": {
          "base_uri": "https://localhost:8080/"
        },
        "id": "Zcj1tziW1H3q",
        "outputId": "3aeeec34-24fd-43d6-9517-7d1c9b90ab2a"
      },
      "execution_count": 12,
      "outputs": [
        {
          "output_type": "stream",
          "name": "stdout",
          "text": [
            "Model: \"sequential\"\n",
            "_________________________________________________________________\n",
            " Layer (type)                Output Shape              Param #   \n",
            "=================================================================\n",
            " dense (Dense)               (None, 1)                 2         \n",
            "                                                                 \n",
            " dense_1 (Dense)             (None, 1)                 2         \n",
            "                                                                 \n",
            "=================================================================\n",
            "Total params: 4\n",
            "Trainable params: 4\n",
            "Non-trainable params: 0\n",
            "_________________________________________________________________\n"
          ]
        }
      ]
    },
    {
      "cell_type": "code",
      "source": [
        "model.summary()"
      ],
      "metadata": {
        "colab": {
          "base_uri": "https://localhost:8080/"
        },
        "id": "Va2CYcAV1L1S",
        "outputId": "a31f5bfe-0ffe-4b79-e791-96b4b9c0b71a"
      },
      "execution_count": 13,
      "outputs": [
        {
          "output_type": "stream",
          "name": "stdout",
          "text": [
            "Model: \"sequential_2\"\n",
            "_________________________________________________________________\n",
            " Layer (type)                Output Shape              Param #   \n",
            "=================================================================\n",
            " dense_4 (Dense)             (None, 1)                 2         \n",
            "                                                                 \n",
            " dense_5 (Dense)             (None, 1)                 2         \n",
            "                                                                 \n",
            "=================================================================\n",
            "Total params: 4\n",
            "Trainable params: 4\n",
            "Non-trainable params: 0\n",
            "_________________________________________________________________\n"
          ]
        }
      ]
    },
    {
      "cell_type": "markdown",
      "source": [
        "#### So the loadee model and trained model has same summary so our model was saved perfectly. Below is one more test"
      ],
      "metadata": {
        "id": "4vDKgEMB1OYK"
      }
    },
    {
      "cell_type": "code",
      "source": [
        "modelPrediction = model.predict(y_test)\n",
        "savedModelPrediction = loadModel.predict(y_test)"
      ],
      "metadata": {
        "id": "BbAE9wtS1Y2Z"
      },
      "execution_count": 14,
      "outputs": []
    },
    {
      "cell_type": "code",
      "source": [
        "modelPrediction == savedModelPrediction"
      ],
      "metadata": {
        "colab": {
          "base_uri": "https://localhost:8080/"
        },
        "id": "F-ca0d5l2IFq",
        "outputId": "807c93a5-a936-46ea-8244-4cbd54f6224e"
      },
      "execution_count": 15,
      "outputs": [
        {
          "output_type": "execute_result",
          "data": {
            "text/plain": [
              "array([[ True],\n",
              "       [ True],\n",
              "       [ True],\n",
              "       [ True],\n",
              "       [ True],\n",
              "       [ True],\n",
              "       [ True],\n",
              "       [ True],\n",
              "       [ True],\n",
              "       [ True]])"
            ]
          },
          "metadata": {},
          "execution_count": 15
        }
      ]
    },
    {
      "cell_type": "markdown",
      "source": [
        "There we go"
      ],
      "metadata": {
        "id": "7XuKDwpb2PDq"
      }
    }
  ]
}